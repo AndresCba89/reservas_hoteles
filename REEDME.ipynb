{
 "cells": [
  {
   "cell_type": "markdown",
   "id": "fd02a251",
   "metadata": {},
   "source": [
    "ANALSIS VACIONAL SIERRAS CHICAS"
   ]
  },
  {
   "cell_type": "markdown",
   "id": "53042160",
   "metadata": {},
   "source": [
    "En la siguente base de datos podemos se registraron, los datos de clientes en un hotel de las sierras cordobesas durante los años 2017 y 2018, clasificando de acuerdo a su clase de reserva y condiciones, que seran detallatas a continuacion."
   ]
  },
  {
   "cell_type": "markdown",
   "id": "c03e0c02",
   "metadata": {},
   "source": [
    "DESCRIPCION DE VARIABLES.\n",
    "\n",
    " 0   Booking_ID -- Numero de Reserva<br>\n",
    " 1   no_of_adults -- Cantidad de Adultos por reserva<br>\n",
    " 2   no_of_children -- Cantidad de Niños por reserva<br>\n",
    " 3   no_of_weekend_nights -- Cantidad de Noches por fin de semana<br>\n",
    " 4   no_of_week_night -- Cantidad de Noches por de semana<br>\n",
    " 5   type_of_meal_plan -- Menu de Comida elegido<br>\n",
    " 6   required_car_parking_space -- Requerimiento de Estacionamiento<br>\n",
    " 7   room_type_reserved -- tipo de habitacion reservada<br>\n",
    " 8   lead_time -- Tiempo de antelacion de reserva<br>\n",
    " 9   arrival_year -- Año de llegada<br>\n",
    " 10  arrival_month -- Mes de llegada<br>\n",
    " 11  arrival_date -- dia de llegada<br>\n",
    " 12  market_segment_type -- tipo de resserva<br> \n",
    " 13  repeated_guest -- huesped repetido<br>\n",
    " 14  no_of_previous_cancellations -- numero previo de cancelaciones<br>\n",
    " 15  no_of_previous_bookings_not_canceled -- numero previo de no cancelaciones<br>\n",
    " 16  avg_price_per_room -- promedio de precio de habitaciones<br>\n",
    " 17  no_of_special_requests -- requerimientos especiales<br>\n",
    " 18  booking_status -- estado de la reserva<br>"
   ]
  },
  {
   "cell_type": "markdown",
   "id": "f1bc25fb",
   "metadata": {},
   "source": [
    "En base a los datos recopilados dureste este periodo de tiempo, se realizan distintos analisis de las reservas fueron o no canceladas en funcion de las distintas varaibles. "
   ]
  },
  {
   "cell_type": "markdown",
   "id": "0cf44884",
   "metadata": {},
   "source": [
    "1. Precio promedio por habitación por mes y estado de la reserva\n",
    "    \n",
    "![Grafico de reservas por promedio de precio de habitacion](graficos\\avg_room.png)"
   ]
  },
  {
   "cell_type": "markdown",
   "id": "2315bfd9",
   "metadata": {},
   "source": [
    "Lo que se puede visualizar en este grafico es que entre los meses de mayo y septiembre, en efectivo se raliza un mayor numero de reservar, tambien asi mismo es el numero de cancelaciones."
   ]
  },
  {
   "cell_type": "markdown",
   "id": "1af5c95c",
   "metadata": {},
   "source": [
    "2. Numero de Adultos que se hospedaron en el hotel por cada mes, en funcion de los años 2017 y 2018\n",
    "\n",
    "![Grafico de adulktos hospedados por mes](graficos\\reserva_year.png)\n",
    "\n",
    "Aca se  puede determinar el aumento de clientes adultos a medidda que se abrio el hotel en 2017 y  a lo largo de \n",
    "2018"
   ]
  },
  {
   "cell_type": "markdown",
   "id": "0247eee9",
   "metadata": {},
   "source": [
    "4. "
   ]
  }
 ],
 "metadata": {
  "kernelspec": {
   "display_name": "Python 3",
   "language": "python",
   "name": "python3"
  },
  "language_info": {
   "name": "python",
   "version": "3.13.0"
  }
 },
 "nbformat": 4,
 "nbformat_minor": 5
}
