{
 "cells": [
  {
   "cell_type": "markdown",
   "id": "fd02a251",
   "metadata": {},
   "source": [
    "ANALSIS VACIONAL SIERRAS CHICAS"
   ]
  },
  {
   "cell_type": "markdown",
   "id": "53042160",
   "metadata": {},
   "source": [
    "En la siguente base de datos podemos se registraron, los datos de clientes en un hotel de las sierras cordobesas durante los años 2017 y 2018, clasificando de acuerdo a su clase de reserva y condiciones, que seran detallatas a continuacion."
   ]
  },
  {
   "cell_type": "markdown",
   "id": "c03e0c02",
   "metadata": {},
   "source": [
    "DESCRIPCION DE VARIABLES.\n",
    "\n",
    " 0   Booking_ID -- Numero de Reserva\n",
    " 1   no_of_adults -- Cantidad de Adultos por reserva\n",
    " 2   no_of_children -- Cantidad de Niños por reserva\n",
    " 3   no_of_weekend_nights -- Cantidad de Noches por fin de semana\n",
    " 4   no_of_week_night -- Cantidad de Noches por de semana\n",
    " 5   type_of_meal_plan -- Menu de Comida elegido\n",
    " 6   required_car_parking_space -- Requerimiento de Estacionamiento\n",
    " 7   room_type_reserved -- tipo de habitacion reservada\n",
    " 8   lead_time -- Tiempo de antelacion de reserva\n",
    " 9   arrival_year -- Año de llegada\n",
    " 10  arrival_month -- Mes de llegada\n",
    " 11  arrival_date -- dia de llegada     \n",
    " 12  market_segment_type -- tipo de resserva        \n",
    " 13  repeated_guest -- huesped repetido\n",
    " 14  no_of_previous_cancellations -- numero previo de cancelaciones \n",
    " 15  no_of_previous_bookings_not_canceled -- numero previo de no cancelaciones \n",
    " 16  avg_price_per_room -- promedio de precio de habitaciones\n",
    " 17  no_of_special_requests -- requerimientos especiales\n",
    " 18  booking_status -- estado de la reserva"
   ]
  },
  {
   "cell_type": "markdown",
   "id": "f1bc25fb",
   "metadata": {},
   "source": [
    "En base a los datos recopilados dureste este periodo de tiempo, se realizan distintos analisis de las reservas fueron o no canceladas en funcion de las distintas varaibles. "
   ]
  },
  {
   "cell_type": "markdown",
   "id": "0cf44884",
   "metadata": {},
   "source": [
    "1. Precio promedio por habitación por mes y estado de la reserva\n",
    "    \n",
    "![Grafico de reservas por promedio de precio de habitacion](graficos\\avg_room.png)"
   ]
  }
 ],
 "metadata": {
  "kernelspec": {
   "display_name": "Python 3",
   "language": "python",
   "name": "python3"
  },
  "language_info": {
   "name": "python",
   "version": "3.13.0"
  }
 },
 "nbformat": 4,
 "nbformat_minor": 5
}
